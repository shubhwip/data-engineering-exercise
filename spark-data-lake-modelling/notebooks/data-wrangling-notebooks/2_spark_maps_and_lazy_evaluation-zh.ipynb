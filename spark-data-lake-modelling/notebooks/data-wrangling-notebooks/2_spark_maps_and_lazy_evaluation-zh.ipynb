{
 "cells": [
  {
   "cell_type": "markdown",
   "metadata": {},
   "source": [
    "# Maps\n",
    "\n",
    "在 Spark 中，map会把输入数据按照map中的函数进行转换它们就像数据的指引，告诉每个输入要如何到达输出 。\n",
    "\n",
    "第一个单元创建一个 SparkContext 对象。你可以使用 SparkContext 把输入数据分布到集群中（因为你当前使用的是单机模式，严格讲数据集没有分布到集群上）。\n",
    "\n",
    "运行下面的代码单元来实例化 SparkContext 对象，然后用Spark 读取 log_of_songs 列表。"
   ]
  },
  {
   "cell_type": "code",
   "execution_count": null,
   "metadata": {},
   "outputs": [],
   "source": [
    "### \n",
    "# You might have noticed this code in the screencast.\n",
    "#\n",
    "# import findspark\n",
    "# findspark.init('spark-2.3.2-bin-hadoop2.7')\n",
    "#\n",
    "# The findspark Python module makes it easier to install\n",
    "# Spark in local mode on your computer. This is convenient\n",
    "# for practicing Spark syntax locally. \n",
    "# However, the workspaces already have Spark installed and you do not\n",
    "# need to use the findspark module\n",
    "#\n",
    "###\n",
    "\n",
    "import pyspark\n",
    "sc = pyspark.SparkContext(appName=\"maps_and_lazy_evaluation_example\")\n",
    "\n",
    "log_of_songs = [\n",
    "        \"Despacito\",\n",
    "        \"Nice for what\",\n",
    "        \"No tears left to cry\",\n",
    "        \"Despacito\",\n",
    "        \"Havana\",\n",
    "        \"In my feelings\",\n",
    "        \"Nice for what\",\n",
    "        \"despacito\",\n",
    "        \"All the stars\"\n",
    "]\n",
    "\n",
    "# parallelize the log_of_songs to use with Spark\n",
    "distributed_song_log = sc.parallelize(log_of_songs)"
   ]
  },
  {
   "cell_type": "markdown",
   "metadata": {},
   "source": [
    "下一个代码单元定义了一个将歌曲标题转换为小写的函数。有一个例子将 “Havana\"  改写成  “havana\"。"
   ]
  },
  {
   "cell_type": "code",
   "execution_count": null,
   "metadata": {},
   "outputs": [],
   "source": [
    "def convert_song_to_lowercase(song):\n",
    "    return song.lower()\n",
    "\n",
    "convert_song_to_lowercase(\"Havana\")"
   ]
  },
  {
   "cell_type": "markdown",
   "metadata": {},
   "source": [
    "以下代码单元演示了如何通过 map 来应用此函数。map 步骤会遍历列表中的每首歌曲并且把convert_song_to_lowercase() 函数应用在歌曲上。"
   ]
  },
  {
   "cell_type": "code",
   "execution_count": null,
   "metadata": {},
   "outputs": [],
   "source": [
    "distributed_song_log.map(convert_song_to_lowercase)"
   ]
  },
  {
   "cell_type": "markdown",
   "metadata": {},
   "source": [
    "这个代码单元运行得很快。这是惰性评估的原因。不必要的情况下 Spark 不会执行 map 步骤。\n",
    "\n",
    "输出中的 “RDD” 指的是弹性分布式数据集。RDD 正是他们所说的：分布在集群中的容错数据集。这就是 Spark 存储数据的方式。 \n",
    "\n",
    "要让 Spark 运行 map 步骤，你需要使用一个“工具”。有个可用的“工具”叫 collect 方法。collect() 方法会把所有集群中结果收集到主节点上的单个列表中。"
   ]
  },
  {
   "cell_type": "code",
   "execution_count": null,
   "metadata": {},
   "outputs": [],
   "source": [
    "distributed_song_log.map(convert_song_to_lowercase).collect()"
   ]
  },
  {
   "cell_type": "markdown",
   "metadata": {},
   "source": [
    "另外，请注意，Spark 不会更改原始数据集：Spark 只是复制了一份副本。你可以在原始数据集上运行collect() 来确认这点。"
   ]
  },
  {
   "cell_type": "code",
   "execution_count": null,
   "metadata": {},
   "outputs": [],
   "source": [
    "distributed_song_log.collect()"
   ]
  },
  {
   "cell_type": "markdown",
   "metadata": {},
   "source": [
    "在 map 步骤，有时你不用编写自定义函数。你还可以使用匿名（lambda）函数以及string.lower() 等内置Python函数。 \n",
    "\n",
    "匿名函数实际上是一个Python特性，专门用于编写函数式程序。"
   ]
  },
  {
   "cell_type": "code",
   "execution_count": null,
   "metadata": {},
   "outputs": [],
   "source": [
    "distributed_song_log.map(lambda song: song.lower()).collect()"
   ]
  },
  {
   "cell_type": "code",
   "execution_count": null,
   "metadata": {},
   "outputs": [],
   "source": [
    "distributed_song_log.map(lambda x: x.lower()).collect()"
   ]
  }
 ],
 "metadata": {
  "kernelspec": {
   "display_name": "Python 3",
   "language": "python",
   "name": "python3"
  },
  "language_info": {
   "codemirror_mode": {
    "name": "ipython",
    "version": 3
   },
   "file_extension": ".py",
   "mimetype": "text/x-python",
   "name": "python",
   "nbconvert_exporter": "python",
   "pygments_lexer": "ipython3",
   "version": "3.6.3"
  }
 },
 "nbformat": 4,
 "nbformat_minor": 2
}

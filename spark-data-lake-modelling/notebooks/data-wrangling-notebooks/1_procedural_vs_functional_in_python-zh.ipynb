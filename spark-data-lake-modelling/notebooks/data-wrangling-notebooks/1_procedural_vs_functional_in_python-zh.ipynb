{
 "cells": [
  {
   "cell_type": "markdown",
   "metadata": {},
   "source": [
    "# 程序式编程\n",
    "\n",
    "这个 notebook 包含了之前截屏视频的代码。代码会计算 log_of_songs 变量中歌曲出现的次数。 \n",
    "\n",
    "注意，第一次运行 `count_plays(\"Despacito\")` 时，答案是正确的计数。但是，当你再次运行相同的代码 `count_plays(\"Despacito\")` 时 ，结果就不同了。这是因为全局变量 `play_count` 将结果存储在 count_plays 函数之外。 \n",
    "\n",
    "\n",
    "# 说明\n",
    "\n",
    "运行此 notebook 中的单元以查看问题"
   ]
  },
  {
   "cell_type": "code",
   "execution_count": null,
   "metadata": {},
   "outputs": [],
   "source": [
    "log_of_songs = [\n",
    "        \"Despacito\",\n",
    "        \"Nice for what\",\n",
    "        \"No tears left to cry\",\n",
    "        \"Despacito\",\n",
    "        \"Havana\",\n",
    "        \"In my feelings\",\n",
    "        \"Nice for what\",\n",
    "        \"Despacito\",\n",
    "        \"All the stars\"\n",
    "]"
   ]
  },
  {
   "cell_type": "code",
   "execution_count": null,
   "metadata": {},
   "outputs": [],
   "source": [
    "play_count = 0"
   ]
  },
  {
   "cell_type": "code",
   "execution_count": null,
   "metadata": {},
   "outputs": [],
   "source": [
    "def count_plays(song_title):\n",
    "    global play_count\n",
    "    for song in log_of_songs:\n",
    "        if song == song_title:\n",
    "            play_count = play_count + 1\n",
    "    return play_count"
   ]
  },
  {
   "cell_type": "code",
   "execution_count": null,
   "metadata": {},
   "outputs": [],
   "source": [
    "count_plays(\"Despacito\")"
   ]
  },
  {
   "cell_type": "code",
   "execution_count": null,
   "metadata": {},
   "outputs": [],
   "source": [
    "count_plays(\"Despacito\")"
   ]
  },
  {
   "cell_type": "markdown",
   "metadata": {},
   "source": [
    "# 如何解决问题\n",
    "\n",
    "你会怎么解决这个问题？你可以不用全局变量，而是把 play_count 作为函数的输入：\n",
    "\n",
    "```python\n",
    "def count_plays(song_title, play_count):\n",
    "    for song in log_of_songs:\n",
    "        if song == song_title:\n",
    "            play_count = play_count + 1\n",
    "    return play_count\n",
    "\n",
    "```"
   ]
  },
  {
   "cell_type": "markdown",
   "metadata": {},
   "source": [
    "这个方法在并行编程上可行吗？Spark 将数据拆分到多台计算机上。如果你的歌曲列表分到了两台机器上，机器 A 首先需要完成计数，然后将结果返回到机器 B。然后机器 B 可以使用机器 A 的输出进行计数。\n",
    "\n",
    "但是，这不是并行计算。因为机器 B 必须等机器 A 完成才能开始计算。本课程的下一部分中 Spark 会通过函数式编程范例解决此问题。\n",
    "\n",
    "在Spark中，如果你的数据被分到两台机器，机器A将运行函数计算“Despacito”出现的次数。机器B将同时运行相同函数计算“Despacito”出现次数。单独完成计数后，他们会将结果合并在一起。你将在本课程的下一部分中学习它的工作原理。"
   ]
  }
 ],
 "metadata": {
  "kernelspec": {
   "display_name": "Python 3",
   "language": "python",
   "name": "python3"
  },
  "language_info": {
   "codemirror_mode": {
    "name": "ipython",
    "version": 3
   },
   "file_extension": ".py",
   "mimetype": "text/x-python",
   "name": "python",
   "nbconvert_exporter": "python",
   "pygments_lexer": "ipython3",
   "version": "3.6.3"
  }
 },
 "nbformat": 4,
 "nbformat_minor": 2
}
